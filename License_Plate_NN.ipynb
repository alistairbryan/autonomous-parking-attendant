{
  "nbformat": 4,
  "nbformat_minor": 0,
  "metadata": {
    "colab": {
      "name": "License Plate NN.ipynb",
      "provenance": [],
      "private_outputs": true,
      "collapsed_sections": [],
      "include_colab_link": true
    },
    "kernelspec": {
      "name": "python3",
      "display_name": "Python 3"
    },
    "accelerator": "GPU"
  },
  "cells": [
    {
      "cell_type": "markdown",
      "metadata": {
        "id": "view-in-github",
        "colab_type": "text"
      },
      "source": [
        "<a href=\"https://colab.research.google.com/github/alistairbryan/autonomous-parking-attendant/blob/master/License_Plate_NN.ipynb\" target=\"_parent\"><img src=\"https://colab.research.google.com/assets/colab-badge.svg\" alt=\"Open In Colab\"/></a>"
      ]
    },
    {
      "cell_type": "markdown",
      "metadata": {
        "colab_type": "text",
        "id": "jYysdyb-CaWM"
      },
      "source": [
        "Classify License Plates"
      ]
    },
    {
      "cell_type": "markdown",
      "metadata": {
        "colab_type": "text",
        "id": "FbVhjPpzn6BM"
      },
      "source": [
        "This program trains deconstructs 4-character license plates and trains a neural network model to classify their characters."
      ]
    },
    {
      "cell_type": "code",
      "metadata": {
        "colab_type": "code",
        "id": "jL3OqFKZ9dFg",
        "colab": {}
      },
      "source": [
        "# try:\n",
        "#   # %tensorflow_version only exists in Colab.\n",
        "#   %tensorflow_version 2.x\n",
        "# except Exception:\n",
        "#   pass\n"
      ],
      "execution_count": 0,
      "outputs": []
    },
    {
      "cell_type": "code",
      "metadata": {
        "colab_type": "code",
        "id": "dzLKpmZICaWN",
        "colab": {}
      },
      "source": [
        "from __future__ import absolute_import, division, print_function, unicode_literals\n",
        "\n",
        "# TensorFlow and tf.keras\n",
        "import tensorflow as tf\n",
        "from tensorflow import keras\n",
        "import h5py\n",
        "\n",
        "\n",
        "# Helper libraries\n",
        "import numpy as np\n",
        "from numpy import expand_dims\n",
        "import matplotlib.pyplot as plt\n",
        "import math\n",
        "import re\n",
        "import cv2 as cv\n",
        "import string\n",
        "from collections import Counter\n",
        "from PIL import Image\n",
        "from keras.preprocessing.image import load_img, ImageDataGenerator\n",
        "from keras.models import model_from_json\n",
        "\n",
        "\n",
        "print(tf.__version__)"
      ],
      "execution_count": 0,
      "outputs": []
    },
    {
      "cell_type": "markdown",
      "metadata": {
        "id": "tp9I_n8bRELx",
        "colab_type": "text"
      },
      "source": [
        "## Declare Constants and Initialize Data Augmenter"
      ]
    },
    {
      "cell_type": "code",
      "metadata": {
        "id": "2Hy2CIRFRHxv",
        "colab_type": "code",
        "colab": {}
      },
      "source": [
        "Y_OFFSET = 5\n",
        "FIRST_OFFSET = -203\n",
        "SECOND_OFFSET = -103\n",
        "THIRD_OFFSET = 98\n",
        "FOURTH_OFFSET = 197\n",
        "\n",
        "# Create data generator\n",
        "datagen = ImageDataGenerator(width_shift_range=0.3, height_shift_range=0.1, rotation_range=5, brightness_range=[0.3,0.9], zoom_range=[1.0, 1.3])\n",
        "datagen_parking = ImageDataGenerator(width_shift_range=0.3, height_shift_range=0.3, rotation_range=10, brightness_range=[0.3,0.9], zoom_range=[1.0, 1.6])"
      ],
      "execution_count": 0,
      "outputs": []
    },
    {
      "cell_type": "markdown",
      "metadata": {
        "colab_type": "text",
        "id": "yR0EdgrLCaWR"
      },
      "source": [
        "## Authorize Google Drive Access"
      ]
    },
    {
      "cell_type": "code",
      "metadata": {
        "colab_type": "code",
        "id": "7MqDQO0KCaWS",
        "colab": {}
      },
      "source": [
        "from google.colab import drive\n",
        "drive.mount('/content/drive')"
      ],
      "execution_count": 0,
      "outputs": []
    },
    {
      "cell_type": "markdown",
      "metadata": {
        "id": "-kcBo4c54qwN",
        "colab_type": "text"
      },
      "source": [
        "## Load License Plate Data"
      ]
    },
    {
      "cell_type": "code",
      "metadata": {
        "id": "i0JzSoxp4oLb",
        "colab_type": "code",
        "colab": {}
      },
      "source": [
        "# Training Data\n",
        "PATH = \"/content/drive/My Drive/ENPH 353/Lab 4 - Alistair/Training_Pictures/\"\n",
        "oldTrainingLabels = !ls \"{PATH}\"\n",
        "trainingLabels = []\n",
        "trainingFiles = []\n",
        "for label in oldTrainingLabels:\n",
        "  label = label.split(\"\\t\")\n",
        "  for l in label:\n",
        "    trainingFiles.append(l)\n",
        "    trainingLabels.append(l[6:10])\n",
        "print(trainingFiles)\n",
        "print(trainingLabels)\n",
        "\n",
        "# Testing Data\n",
        "PATH_TESTING = \"/content/drive/My Drive/ENPH 353/Lab 4 - Alistair/Testing_Pictures/\"\n",
        "oldTestingLabels = !ls \"{PATH_TESTING}\"\n",
        "testingLabels = []\n",
        "testingFiles = []\n",
        "for label in oldTestingLabels:\n",
        "  label = label.split(\"\\t\")\n",
        "  for l in label:\n",
        "    testingFiles.append(l)\n",
        "    testingLabels.append(l[6:10])"
      ],
      "execution_count": 0,
      "outputs": []
    },
    {
      "cell_type": "code",
      "metadata": {
        "id": "oKf-f8xiQZvm",
        "colab_type": "code",
        "colab": {}
      },
      "source": [
        "# Single Characters\n",
        "PATH_CHARS = \"/content/drive/My Drive/ENPH 353/Lab 4 - Alistair/comp_img/\"\n",
        "oldCharLabels = !ls \"{PATH_CHARS}\"\n",
        "singleCharLabels = []\n",
        "charFiles = []\n",
        "labs = []\n",
        "almost_labels = []\n",
        "for label in oldCharLabels:\n",
        "  label = label.split(\"\\t\")\n",
        "  for l in label:\n",
        "    singleCharLabels.append(l[1])\n",
        "    singleCharLabels.append(l[13])\n",
        "    charFiles.append(l[1:9])\n",
        "    charFiles.append(l[13:21])\n",
        "\n",
        "print(singleCharLabels)\n",
        "print(charFiles)"
      ],
      "execution_count": 0,
      "outputs": []
    },
    {
      "cell_type": "code",
      "metadata": {
        "id": "5HyidmcV8sgc",
        "colab_type": "code",
        "colab": {}
      },
      "source": [
        "\n",
        "trainingSet = []\n",
        "\n",
        "# Populate training set\n",
        "for file in trainingFiles: trainingSet.append(cv.imread('%s%s' % (PATH, file)))\n",
        "  \n",
        "\n",
        "# Images loaded in rgb\n",
        "trainingPlates = np.asarray(trainingSet)\n",
        "print(trainingPlates.shape)"
      ],
      "execution_count": 0,
      "outputs": []
    },
    {
      "cell_type": "code",
      "metadata": {
        "id": "T7maCL7huRE_",
        "colab_type": "code",
        "colab": {}
      },
      "source": [
        "testingSet = []\n",
        "\n",
        "for fileTest in testingFiles: testingSet.append(cv.imread('%s%s' % (PATH_TESTING, fileTest)))\n",
        "testingPlates = np.asarray(testingSet)\n",
        "print(testingPlates.shape)"
      ],
      "execution_count": 0,
      "outputs": []
    },
    {
      "cell_type": "code",
      "metadata": {
        "id": "dk6FgFIZWKG-",
        "colab_type": "code",
        "colab": {}
      },
      "source": [
        "charSet = []\n",
        "\n",
        "for fileChar in charFiles: charSet.append(cv.imread('%s%s' % (PATH_CHARS, fileChar)))\n",
        "\n",
        "# Images loaded in rgb\n",
        "trainingChars = np.asarray(charSet)\n",
        "print(trainingChars.shape)"
      ],
      "execution_count": 0,
      "outputs": []
    },
    {
      "cell_type": "markdown",
      "metadata": {
        "id": "wgZ5P7egMJQE",
        "colab_type": "text"
      },
      "source": [
        "## Show an Image"
      ]
    },
    {
      "cell_type": "code",
      "metadata": {
        "id": "k-E1bFqML35f",
        "colab_type": "code",
        "colab": {}
      },
      "source": [
        "plt.figure()\n",
        "plt.imshow(trainingChars[1])\n",
        "plt.grid(False)\n",
        "plt.show()"
      ],
      "execution_count": 0,
      "outputs": []
    },
    {
      "cell_type": "markdown",
      "metadata": {
        "id": "WL1JyE1zM-NI",
        "colab_type": "text"
      },
      "source": [
        "## Slice License Plates and Labels into Individual Characters"
      ]
    },
    {
      "cell_type": "code",
      "metadata": {
        "id": "e4bNnZxJNIgm",
        "colab_type": "code",
        "colab": {}
      },
      "source": [
        "def crop(img, charNum):\n",
        "    cropx = 90\n",
        "    cropy = 298\n",
        "    \n",
        "    if (charNum == 0): xOffset = FIRST_OFFSET\n",
        "    if (charNum == 1): xOffset = SECOND_OFFSET\n",
        "    if (charNum == 2): xOffset = THIRD_OFFSET\n",
        "    if (charNum == 3): xOffset = FOURTH_OFFSET\n",
        "\n",
        "    y,x,_ = img.shape\n",
        "    startx = x//2-(cropx//2) + xOffset\n",
        "    starty = y//2-(cropy//2) + Y_OFFSET\n",
        "    return img[starty:starty+cropy,startx:startx+cropx]\n",
        "\n",
        "unscaledChars = [] # Contains the image of the character\n",
        "charLabels = [] # Contains the label that corresponds to each image\n",
        "\n",
        "i = 0\n",
        "\n",
        "while i < len(trainingPlates):\n",
        "  j = 0\n",
        "  while j < 4:\n",
        "    unscaledChars.append(crop(trainingPlates[i], j))\n",
        "    charLabels.append(trainingLabels[i][j])\n",
        "    j += 1\n",
        "  i += 1\n",
        "\n",
        "i = 0\n",
        "\n",
        "while i < len(trainingChars):\n",
        "  unscaledChars.append(trainingChars[i])\n",
        "  charLabels.append(singleCharLabels[i])\n",
        "  i += 1\n",
        "unscaledChars = np.asarray(unscaledChars)\n",
        "\n",
        "unscaledTestingChars = [] # Contains the image of the character\n",
        "testingCharLabels = [] # Contains the label that corresponds to each image\n",
        "\n",
        "\n",
        "while i < len(testingPlates):\n",
        "  j = 0\n",
        "  while j < 4:\n",
        "    unscaledTestingChars.append(crop(testingPlates[i], j))\n",
        "    testingCharLabels.append(testingLabels[i][j])\n",
        "    j += 1\n",
        "  i += 1\n",
        "unscaledTestingChars = np.asarray(unscaledTestingChars)\n"
      ],
      "execution_count": 0,
      "outputs": []
    },
    {
      "cell_type": "markdown",
      "metadata": {
        "id": "9cOpXywELqX7",
        "colab_type": "text"
      },
      "source": [
        "## Map Character Labels Array Indices"
      ]
    },
    {
      "cell_type": "code",
      "metadata": {
        "colab_type": "code",
        "id": "IjnLH5S2CaWx",
        "colab": {}
      },
      "source": [
        "nums = ['0', '1', '2', '3', '4',\n",
        "               '5', '6', '7', '8', '9']\n",
        "class_names = nums + list(string.ascii_uppercase)\n",
        "\n",
        "charLabelNums = []\n",
        "for charLabel in charLabels:\n",
        "  k = 0\n",
        "  while k < len(class_names):\n",
        "    if charLabel == class_names[k]:\n",
        "      charLabelNums.append(k)\n",
        "      break\n",
        "    k += 1\n",
        "print(charLabelNums)\n",
        "\n",
        "testingCharLabelNums = []\n",
        "for charLabel in testingCharLabels:\n",
        "  k = 0\n",
        "  while k < len(class_names):\n",
        "    if charLabel == class_names[k]:\n",
        "      testingCharLabelNums.append(k)\n",
        "      break\n",
        "    k += 1\n",
        "print(testingCharLabelNums)"
      ],
      "execution_count": 0,
      "outputs": []
    },
    {
      "cell_type": "markdown",
      "metadata": {
        "id": "msd9VxW6vAPZ",
        "colab_type": "text"
      },
      "source": [
        "## Scale pixel values from 0-255 to 0-1"
      ]
    },
    {
      "cell_type": "markdown",
      "metadata": {
        "colab_type": "text",
        "id": "Wz7l27Lz9S1P"
      },
      "source": [
        "Scale these values to a range of 0 to 1 before feeding them to the neural network model. To do so, divide the values by 255. It's important that the *training set* and the *testing set* be preprocessed in the same way:"
      ]
    },
    {
      "cell_type": "code",
      "metadata": {
        "colab_type": "code",
        "id": "bW5WzIPlCaWv",
        "colab": {}
      },
      "source": [
        "chars = unscaledChars\n",
        "scaledChars = []\n",
        "for char in chars:\n",
        "  sized_char = cv.resize(char, dsize=(128, 128), interpolation=cv.INTER_CUBIC)\n",
        "  gray_char = cv.cvtColor(sized_char, cv.COLOR_RGB2GRAY) / 255.0\n",
        "\n",
        "  scaledChars.append(cv.blur(gray_char, (15,15)))\n",
        "\n",
        "testingChars = unscaledTestingChars\n",
        "scaledTestingChars = []\n",
        "for char in testingChars:\n",
        "  char = cv.blur(cv.resize(char, dsize=(128, 128), interpolation=cv.INTER_CUBIC), (15, 15)) / 255.0\n",
        "  scaledTestingChars.append(char)\n",
        "  \n",
        "train_images = np.asarray(scaledChars)\n",
        "test_images = np.asarray(scaledTestingChars)\n",
        "\n",
        "train_labels = np.asarray(charLabelNums)\n",
        "test_labels = np.asarray(testingCharLabelNums)"
      ],
      "execution_count": 0,
      "outputs": []
    },
    {
      "cell_type": "markdown",
      "metadata": {
        "colab_type": "text",
        "id": "Ee638AlnCaWz"
      },
      "source": [
        "To verify that the data is in the correct format and that you're ready to build and train the network, let's display the first 25 images from the *training set* and display the class name below each image."
      ]
    },
    {
      "cell_type": "markdown",
      "metadata": {
        "id": "FbIKm6yRENBK",
        "colab_type": "text"
      },
      "source": [
        "Check parking number characters are present."
      ]
    },
    {
      "cell_type": "code",
      "metadata": {
        "id": "s6am5zh8D7DP",
        "colab_type": "code",
        "colab": {}
      },
      "source": [
        "plt.figure()\n",
        "plt.imshow(train_images[-13])\n",
        "print(train_labels[-13])\n",
        "plt.grid(False)\n",
        "plt.show()\n",
        "\n",
        "print(train_labels[-12:-1].size)\n",
        "train_labels[-12:-1]"
      ],
      "execution_count": 0,
      "outputs": []
    },
    {
      "cell_type": "code",
      "metadata": {
        "colab_type": "code",
        "id": "oZTImqg_CaW1",
        "colab": {}
      },
      "source": [
        "# Configure iterator\n",
        "\n",
        "print(np.expand_dims(train_images, 3).shape)\n",
        "\n",
        "one_hot = keras.utils.to_categorical(train_labels, 36)\n",
        "\n",
        "it = datagen.flow(np.expand_dims(train_images, 3), one_hot)\n",
        "it_parking = datagen.flow(np.expand_dims(train_images[-12:-1], 3), one_hot[-12:-1])\n",
        "\n",
        "plt.figure(figsize=(10,10))\n",
        "for i in range(9):\n",
        "  # define subplot\n",
        "  plt.subplot(330 + 1 + i)\n",
        "  # generate batch of images\n",
        "  batch = it.next()\n",
        "\n",
        "  print(batch[0][0].shape)\n",
        "\n",
        "  # convert to unsigned integers for viewing\n",
        "  image = batch[0].astype('uint8') / 255.0\n",
        "  # plot raw pixel data\n",
        "  plt.imshow(np.squeeze(image[0], 2))\n",
        "  plt.colorbar()\n",
        "\n",
        "plt.show()"
      ],
      "execution_count": 0,
      "outputs": []
    },
    {
      "cell_type": "code",
      "metadata": {
        "id": "Mxa3l-tG6-mA",
        "colab_type": "code",
        "colab": {}
      },
      "source": [
        "finished_images = []\n",
        "finished_labels = []\n",
        "for i in range(0, 500):\n",
        "  j = 0\n",
        "  next_batch = it.next()\n",
        "  while j < next_batch[0].shape[0]:\n",
        "    finished_images.append(next_batch[0][j])\n",
        "    finished_labels.append(next_batch[1][j])\n",
        "    j += 1\n",
        "\n",
        "for i in range(0, 50):\n",
        "  j = 0\n",
        "  next_batch = it_parking.next()\n",
        "  while j < next_batch[0].shape[0]:\n",
        "    finished_images.append(next_batch[0][j])\n",
        "    finished_labels.append(next_batch[1][j])\n",
        "    j += 1"
      ],
      "execution_count": 0,
      "outputs": []
    },
    {
      "cell_type": "code",
      "metadata": {
        "id": "ZHB0b5Fs7-rP",
        "colab_type": "code",
        "colab": {}
      },
      "source": [
        "finished_labels_array = np.asarray(finished_labels)\n",
        "finished_images_array = np.asarray(finished_images) / 255.0\n",
        "print(finished_labels_array.shape)\n",
        "print(finished_images_array.shape)\n",
        "print(finished_labels_array[0])\n",
        "plt.imshow(np.squeeze(finished_images_array[-1]))\n",
        "plt.show()"
      ],
      "execution_count": 0,
      "outputs": []
    },
    {
      "cell_type": "markdown",
      "metadata": {
        "colab_type": "text",
        "id": "59veuiEZCaW4"
      },
      "source": [
        "## Build the model\n",
        "\n",
        "Building the neural network requires configuring the layers of the model, then compiling the model."
      ]
    },
    {
      "cell_type": "markdown",
      "metadata": {
        "colab_type": "text",
        "id": "Gxg1XGm0eOBy"
      },
      "source": [
        "### Set up the layers\n",
        "\n",
        "The basic building block of a neural network is the *layer*. Layers extract representations from the data fed into them. Hopefully, these representations are meaningful for the problem at hand.\n",
        "\n",
        "Most of deep learning consists of chaining together simple layers. Most layers, such as `tf.keras.layers.Dense`, have parameters that are learned during training."
      ]
    },
    {
      "cell_type": "code",
      "metadata": {
        "id": "AJC-OYNMAIDX",
        "colab_type": "code",
        "colab": {}
      },
      "source": [
        "from keras import layers\n",
        "from keras import models\n",
        "from keras import optimizers\n",
        "\n",
        "from keras.utils import plot_model\n",
        "from keras import backend"
      ],
      "execution_count": 0,
      "outputs": []
    },
    {
      "cell_type": "code",
      "metadata": {
        "colab_type": "code",
        "id": "9ODch-OFCaW4",
        "colab": {}
      },
      "source": [
        "\n",
        "conv_model = models.Sequential()\n",
        "conv_model.add(layers.Conv2D(32, (3, 3), activation='relu',\n",
        "                             input_shape=(128, 128, 1)))\n",
        "conv_model.add(layers.MaxPooling2D((2, 2)))\n",
        "conv_model.add(layers.Conv2D(64, (3, 3), activation='relu'))\n",
        "conv_model.add(layers.MaxPooling2D((2, 2)))\n",
        "conv_model.add(layers.Conv2D(128, (3, 3), activation='relu'))\n",
        "conv_model.add(layers.MaxPooling2D((2, 2)))\n",
        "conv_model.add(layers.Conv2D(128, (3, 3), activation='relu'))\n",
        "conv_model.add(layers.MaxPooling2D((2, 2)))\n",
        "conv_model.add(layers.Flatten())\n",
        "conv_model.add(layers.Dropout(0.5))\n",
        "conv_model.add(layers.Dense(512, activation='relu'))\n",
        "conv_model.add(layers.Dense(36, activation='softmax'))"
      ],
      "execution_count": 0,
      "outputs": []
    },
    {
      "cell_type": "code",
      "metadata": {
        "id": "HMJ6nn2V_ycp",
        "colab_type": "code",
        "colab": {}
      },
      "source": [
        "def reset_weights(model):\n",
        "    session = backend.get_session()\n",
        "    for layer in conv_model.layers: \n",
        "        if hasattr(layer, 'kernel_initializer'):\n",
        "            layer.kernel.initializer.run(session=session)\n",
        "\n",
        "reset_weights(conv_model)"
      ],
      "execution_count": 0,
      "outputs": []
    },
    {
      "cell_type": "markdown",
      "metadata": {
        "colab_type": "text",
        "id": "gut8A_7rCaW6"
      },
      "source": [
        "The first layer in this network, `tf.keras.layers.Flatten`, transforms the format of the images from a two-dimensional array (of 28 by 28 pixels) to a one-dimensional array (of 28 * 28 = 784 pixels). Think of this layer as unstacking rows of pixels in the image and lining them up. This layer has no parameters to learn; it only reformats the data.\n",
        "\n",
        "After the pixels are flattened, the network consists of a sequence of two `tf.keras.layers.Dense` layers. These are densely connected, or fully connected, neural layers. The first `Dense` layer has 128 nodes (or neurons). The second (and last) layer is a 36-node *softmax* layer that returns an array of 36 probability scores that sum to 1. Each node contains a score that indicates the probability that the current image belongs to one of the 36 classes.\n",
        "\n",
        "### Compile the model\n",
        "\n",
        "Before the model is ready for training, it needs a few more settings. These are added during the model's *compile* step:\n",
        "\n",
        "* *Loss function* —This measures how accurate the model is during training. You want to minimize this function to \"steer\" the model in the right direction.\n",
        "* *Optimizer* —This is how the model is updated based on the data it sees and its loss function.\n",
        "* *Metrics* —Used to monitor the training and testing steps. The following example uses *accuracy*, the fraction of the images that are correctly classified."
      ]
    },
    {
      "cell_type": "code",
      "metadata": {
        "colab_type": "code",
        "id": "Lhan11blCaW7",
        "colab": {}
      },
      "source": [
        "LEARNING_RATE = 1e-4\n",
        "conv_model.compile(loss='categorical_crossentropy',\n",
        "                   optimizer=optimizers.RMSprop(lr=LEARNING_RATE),\n",
        "                   metrics=['acc'])"
      ],
      "execution_count": 0,
      "outputs": []
    },
    {
      "cell_type": "markdown",
      "metadata": {
        "colab_type": "text",
        "id": "qKF6uW-BCaW-"
      },
      "source": [
        "## Train the model\n",
        "\n",
        "Training the neural network model requires the following steps:\n",
        "\n",
        "1. Feed the training data to the model. In this example, the training data is in the `train_images` and `train_labels` arrays.\n",
        "2. The model learns to associate images and labels.\n",
        "3. You ask the model to make predictions about a test set—in this example, the `test_images` array. Verify that the predictions match the labels from the `test_labels` array.\n",
        "\n",
        "To start training,  call the `model.fit` method—so called because it \"fits\" the model to the training data:"
      ]
    },
    {
      "cell_type": "code",
      "metadata": {
        "colab_type": "code",
        "id": "xvwvpA64CaW_",
        "colab": {}
      },
      "source": [
        "\n",
        "conv_model.fit(finished_images_array, finished_labels_array, epochs=5, batch_size=16)"
      ],
      "execution_count": 0,
      "outputs": []
    },
    {
      "cell_type": "markdown",
      "metadata": {
        "colab_type": "text",
        "id": "W3ZVOhugCaXA"
      },
      "source": [
        "As the model trains, the loss and accuracy metrics are displayed. This model reaches an accuracy of about 0.88 (or 88%) on the training data."
      ]
    },
    {
      "cell_type": "markdown",
      "metadata": {
        "colab_type": "text",
        "id": "oEw4bZgGCaXB"
      },
      "source": [
        "## Evaluate accuracy\n",
        "\n",
        "Next, compare how the model performs on the test dataset:"
      ]
    },
    {
      "cell_type": "code",
      "metadata": {
        "colab_type": "code",
        "id": "VflXLEeECaXC",
        "colab": {}
      },
      "source": [
        "conv_model.save(\"license_recognition_17.0.h5\")"
      ],
      "execution_count": 0,
      "outputs": []
    },
    {
      "cell_type": "markdown",
      "metadata": {
        "colab_type": "text",
        "id": "yWfgsmVXCaXG"
      },
      "source": [
        "It turns out that the accuracy on the test dataset is a little less than the accuracy on the training dataset. This gap between training accuracy and test accuracy represents *overfitting*. Overfitting is when a machine learning model performs worse on new, previously unseen inputs than on the training data."
      ]
    },
    {
      "cell_type": "markdown",
      "metadata": {
        "colab_type": "text",
        "id": "xsoS7CPDCaXH"
      },
      "source": [
        "## Make predictions\n",
        "\n",
        "With the model trained, you can use it to make predictions about some images."
      ]
    },
    {
      "cell_type": "code",
      "metadata": {
        "colab_type": "code",
        "id": "Gl91RPhdCaXI",
        "colab": {}
      },
      "source": [
        "predictions = model.predict(test_images)"
      ],
      "execution_count": 0,
      "outputs": []
    },
    {
      "cell_type": "markdown",
      "metadata": {
        "colab_type": "text",
        "id": "x9Kk1voUCaXJ"
      },
      "source": [
        "Here, the model has predicted the label for each image in the testing set. Let's take a look at the first prediction:"
      ]
    },
    {
      "cell_type": "code",
      "metadata": {
        "colab_type": "code",
        "id": "3DmJEUinCaXK",
        "colab": {}
      },
      "source": [
        "predictions[0]"
      ],
      "execution_count": 0,
      "outputs": []
    },
    {
      "cell_type": "markdown",
      "metadata": {
        "colab_type": "text",
        "id": "-hw1hgeSCaXN"
      },
      "source": [
        "A prediction is an array of 10 numbers. They represent the model's \"confidence\" that the image corresponds to each of the 10 different articles of clothing. You can see which label has the highest confidence value:"
      ]
    },
    {
      "cell_type": "code",
      "metadata": {
        "colab_type": "code",
        "id": "qsqenuPnCaXO",
        "colab": {}
      },
      "source": [
        "np.argmax(predictions[1])"
      ],
      "execution_count": 0,
      "outputs": []
    },
    {
      "cell_type": "markdown",
      "metadata": {
        "colab_type": "text",
        "id": "E51yS7iCCaXO"
      },
      "source": [
        "So, the model is most confident that this image is an ankle boot, or `class_names[9]`. Examining the test label shows that this classification is correct:"
      ]
    },
    {
      "cell_type": "code",
      "metadata": {
        "colab_type": "code",
        "id": "Sd7Pgsu6CaXP",
        "colab": {}
      },
      "source": [
        "test_labels[1]"
      ],
      "execution_count": 0,
      "outputs": []
    },
    {
      "cell_type": "markdown",
      "metadata": {
        "colab_type": "text",
        "id": "ygh2yYC972ne"
      },
      "source": [
        "Graph this to look at the full set of 10 class predictions."
      ]
    },
    {
      "cell_type": "code",
      "metadata": {
        "colab_type": "code",
        "id": "DvYmmrpIy6Y1",
        "colab": {}
      },
      "source": [
        "def plot_image(i, predictions_array, true_label, img):\n",
        "  predictions_array, true_label, img = predictions_array, true_label[i], img[i]\n",
        "  plt.grid(False)\n",
        "  plt.xticks([])\n",
        "  plt.yticks([])\n",
        "\n",
        "  plt.imshow(img, cmap=plt.cm.binary)\n",
        "\n",
        "  predicted_label = np.argmax(predictions_array)\n",
        "  if predicted_label == true_label:\n",
        "    color = 'blue'\n",
        "  else:\n",
        "    color = 'red'\n",
        "\n",
        "  plt.xlabel(\"{} {:2.0f}% ({})\".format(class_names[predicted_label],\n",
        "                                100*np.max(predictions_array),\n",
        "                                class_names[true_label]),\n",
        "                                color=color)\n",
        "\n",
        "def plot_value_array(i, predictions_array, true_label):\n",
        "  predictions_array, true_label = predictions_array, true_label[i]\n",
        "  plt.grid(False)\n",
        "  plt.xticks(range(10))\n",
        "  plt.yticks([])\n",
        "  thisplot = plt.bar(range(36), predictions_array, color=\"#777777\")\n",
        "  plt.ylim([0, 1])\n",
        "  predicted_label = np.argmax(predictions_array)\n",
        "\n",
        "  thisplot[predicted_label].set_color('red')\n",
        "  thisplot[true_label].set_color('blue')"
      ],
      "execution_count": 0,
      "outputs": []
    },
    {
      "cell_type": "markdown",
      "metadata": {
        "colab_type": "text",
        "id": "d4Ov9OFDMmOD"
      },
      "source": [
        "Let's look at the 0th image, predictions, and prediction array. Correct prediction labels are blue and incorrect prediction labels are red. The number gives the percentage (out of 100) for the predicted label."
      ]
    },
    {
      "cell_type": "code",
      "metadata": {
        "colab_type": "code",
        "id": "HV5jw-5HwSmO",
        "colab": {}
      },
      "source": [
        "i = 0\n",
        "plt.figure(figsize=(6,3))\n",
        "plt.subplot(1,2,1)\n",
        "plot_image(i, predictions[i], test_labels, test_images)\n",
        "plt.subplot(1,2,2)\n",
        "plot_value_array(i, predictions[i],  test_labels)\n",
        "plt.show()"
      ],
      "execution_count": 0,
      "outputs": []
    },
    {
      "cell_type": "code",
      "metadata": {
        "colab_type": "code",
        "id": "Ko-uzOufSCSe",
        "colab": {}
      },
      "source": [
        "i = 12\n",
        "plt.figure(figsize=(6,3))\n",
        "plt.subplot(1,2,1)\n",
        "plot_image(i, predictions[i], test_labels, test_images)\n",
        "plt.subplot(1,2,2)\n",
        "plot_value_array(i, predictions[i],  test_labels)\n",
        "plt.show()"
      ],
      "execution_count": 0,
      "outputs": []
    },
    {
      "cell_type": "markdown",
      "metadata": {
        "colab_type": "text",
        "id": "kgdvGD52CaXR"
      },
      "source": [
        "Let's plot several images with their predictions. Note that the model can be wrong even when very confident."
      ]
    },
    {
      "cell_type": "code",
      "metadata": {
        "colab_type": "code",
        "id": "hQlnbqaw2Qu_",
        "colab": {}
      },
      "source": [
        "# Plot the first X test images, their predicted labels, and the true labels.\n",
        "# Color correct predictions in blue and incorrect predictions in red.\n",
        "num_rows = 5\n",
        "num_cols = 3\n",
        "num_images = num_rows*num_cols\n",
        "plt.figure(figsize=(2*2*num_cols, 2*num_rows))\n",
        "for i in range(num_images):\n",
        "  plt.subplot(num_rows, 2*num_cols, 2*i+1)\n",
        "  plot_image(i, predictions[i], test_labels, test_images)\n",
        "  plt.subplot(num_rows, 2*num_cols, 2*i+2)\n",
        "  plot_value_array(i, predictions[i], test_labels)\n",
        "plt.tight_layout()\n",
        "plt.show()"
      ],
      "execution_count": 0,
      "outputs": []
    },
    {
      "cell_type": "markdown",
      "metadata": {
        "colab_type": "text",
        "id": "R32zteKHCaXT"
      },
      "source": [
        "Finally, use the trained model to make a prediction about a single image."
      ]
    },
    {
      "cell_type": "code",
      "metadata": {
        "colab_type": "code",
        "id": "yRJ7JU7JCaXT",
        "colab": {}
      },
      "source": [
        "# Grab an image from the test dataset.\n",
        "img = test_images[1]\n",
        "\n",
        "print(img.shape)"
      ],
      "execution_count": 0,
      "outputs": []
    },
    {
      "cell_type": "markdown",
      "metadata": {
        "colab_type": "text",
        "id": "vz3bVp21CaXV"
      },
      "source": [
        "`tf.keras` models are optimized to make predictions on a *batch*, or collection, of examples at once. Accordingly, even though you're using a single image, you need to add it to a list:"
      ]
    },
    {
      "cell_type": "code",
      "metadata": {
        "colab_type": "code",
        "id": "lDFh5yF_CaXW",
        "colab": {}
      },
      "source": [
        "# Add the image to a batch where it's the only member.\n",
        "img = (np.expand_dims(img,0))\n",
        "\n",
        "print(img.shape)"
      ],
      "execution_count": 0,
      "outputs": []
    },
    {
      "cell_type": "markdown",
      "metadata": {
        "colab_type": "text",
        "id": "EQ5wLTkcCaXY"
      },
      "source": [
        "Now predict the correct label for this image:"
      ]
    },
    {
      "cell_type": "code",
      "metadata": {
        "colab_type": "code",
        "id": "o_rzNSdrCaXY",
        "colab": {}
      },
      "source": [
        "predictions_single = model.predict(img)\n",
        "\n",
        "print(predictions_single)"
      ],
      "execution_count": 0,
      "outputs": []
    },
    {
      "cell_type": "code",
      "metadata": {
        "colab_type": "code",
        "id": "6Ai-cpLjO-3A",
        "colab": {}
      },
      "source": [
        "plot_value_array(1, predictions_single[0], test_labels)\n",
        "_ = plt.xticks(range(36), class_names, rotation=45)"
      ],
      "execution_count": 0,
      "outputs": []
    },
    {
      "cell_type": "markdown",
      "metadata": {
        "colab_type": "text",
        "id": "cU1Y2OAMCaXb"
      },
      "source": [
        "`model.predict` returns a list of lists—one list for each image in the batch of data. Grab the predictions for our (only) image in the batch:"
      ]
    },
    {
      "cell_type": "code",
      "metadata": {
        "colab_type": "code",
        "id": "2tRmdq_8CaXb",
        "colab": {}
      },
      "source": [
        "np.argmax(predictions_single[0])\n",
        "print(class_names[14])"
      ],
      "execution_count": 0,
      "outputs": []
    },
    {
      "cell_type": "code",
      "metadata": {
        "id": "ZoNnrH5LdtYI",
        "colab_type": "code",
        "colab": {}
      },
      "source": [
        "# save model and architecture to single file\n",
        "model.save(\"model.h5\")\n",
        "print(\"Saved model to disk\")"
      ],
      "execution_count": 0,
      "outputs": []
    },
    {
      "cell_type": "markdown",
      "metadata": {
        "colab_type": "text",
        "id": "YFc2HbEVCaXd"
      },
      "source": [
        "And the model predicts a label as expected."
      ]
    }
  ]
}